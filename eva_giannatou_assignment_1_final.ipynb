{
 "cells": [
  {
   "cell_type": "markdown",
   "metadata": {},
   "source": [
    "## Eva Giannatou BAFT 1616\n",
    "## Business\tAnalytics\tPracticum\n",
    "## Assignment\t1\t\n",
    "## Setup\t\t\n",
    "The\tobjective\tof\tthis\tassignment\tis\tfor\tyou\tto\tbecome\tconfortable\tworking\twith\t\n",
    "Python\tand\twith\tPandas\tin\tparticular.\tAs\tdiscussed\tin\tclass,\tPandas\tis\ta\t\n",
    "particularly\timportant\tmodule\tin\tPython,\tas\tit\tintroduces\tthe\tdata\tframe\t\n",
    "functionality\tin\tPython\tand\ttogether\twith\tnumpy,\tthey\tform\tthe\tcore\tof\tdata\t\n",
    "processing\tin\tmany\tPython\tanalysis\tworkflows.\t\t\n",
    "## Questions\t\t\n",
    "There\tare\tthree\tquestions\tin\tthis\tassignment\tand\tyou\tmust\tcomplete\tall\tthree.\t"
   ]
  },
  {
   "cell_type": "code",
   "execution_count": null,
   "metadata": {
    "collapsed": true
   },
   "outputs": [],
   "source": [
    "import numpy as np\n",
    "import pandas as pd\n",
    "import matplotlib.pyplot as plt\n",
    "import itertools\n",
    "import re\n",
    "import statistics\n",
    "from sklearn.metrics.pairwise import cosine_similarity, euclidean_distances\n",
    "import json\n",
    "\n",
    "%matplotlib inline"
   ]
  },
  {
   "cell_type": "markdown",
   "metadata": {
    "collapsed": true
   },
   "source": [
    "## Question\t1\t(20\tpoints)\t\n",
    "\t\n",
    "In\tthis\tquestion\twe\twill\tpractice\twriting\tsome\tsimple\tfunctions\tin\tPython.\tPlease\t\n",
    "make\tsure\tyou\tprovide\tyour\tanswer\tto\teach\tsub-question\tas\ta\tfunction\tnot\tas\ta\t\n",
    "series\tof\tpython\tstatements,\tand\tit\twould\tbe\tuseful\tif\tyou\talso\tinclude\ta\tfew\t\t\n",
    "Aexample\tfunction\tcalls\tin\teach\tcase\tthat\tdemonstrate\tthat\tyour\tfunction\tworks.\t\n",
    "I’d\trecommend\tyou\tconsult\tthe\tworked\tPython\texercises\tprovided\twith\tthe\tlabs\t\n",
    "to\thelp\tguide\tyou.\t"
   ]
  },
  {
   "cell_type": "markdown",
   "metadata": {},
   "source": [
    "## 1A\n",
    "Write\ta\tfunction\tcalled\tis_palindrome()\tthat\ttakes\tin\ta\tsingle\tstring\t\n",
    "argument\tand\treturns\tTrue\tor\tFalse\tdepending\ton\twhether\tthe\tstring\tis\ta\t\n",
    "palindrome\t(i.e.\treads\tthe\tsame\tbackwards\te.g.\tanna,\totto,\teye\tetc...)\t(5\t\n",
    "points)\t"
   ]
  },
  {
   "cell_type": "code",
   "execution_count": 13,
   "metadata": {
    "collapsed": true
   },
   "outputs": [],
   "source": [
    "def is_palindrome(str):\n",
    "    palindrome = str[::-1]\n",
    "    if(palindrome==str):\n",
    "        is_palindrome = True\n",
    "    else:\n",
    "        is_palindrome = False\n",
    "    return is_palindrome"
   ]
  },
  {
   "cell_type": "code",
   "execution_count": 14,
   "metadata": {},
   "outputs": [
    {
     "data": {
      "text/plain": [
       "False"
      ]
     },
     "execution_count": 14,
     "metadata": {},
     "output_type": "execute_result"
    }
   ],
   "source": [
    "is_palindrome('lebal')"
   ]
  },
  {
   "cell_type": "code",
   "execution_count": 15,
   "metadata": {},
   "outputs": [
    {
     "data": {
      "text/plain": [
       "True"
      ]
     },
     "execution_count": 15,
     "metadata": {},
     "output_type": "execute_result"
    }
   ],
   "source": [
    "is_palindrome('abba')"
   ]
  },
  {
   "cell_type": "markdown",
   "metadata": {},
   "source": [
    "## 1B\n",
    "Write\ta\tfunction\tthat\ttakes\ttwo\tlists\tof\tequal\tlength\tand\tcreates\ta\tset\tof\tall\t\n",
    "possible\ttuples\twhere\tthe\tfirst\telement\tis\tfrom\tthe\tfirst\tlist\tand\tthe\tsecond\t\n",
    "element\tis\tfrom\tthe\tsecond\tlist\t(5\tpoints)\t"
   ]
  },
  {
   "cell_type": "markdown",
   "metadata": {},
   "source": [
    "**1st Solution**"
   ]
  },
  {
   "cell_type": "code",
   "execution_count": 16,
   "metadata": {
    "collapsed": true
   },
   "outputs": [],
   "source": [
    "# 1st solution\n",
    "def list2tuple1(iterable_1, iterable_2):\n",
    "  return list(zip(iterable_1, iterable_2))"
   ]
  },
  {
   "cell_type": "code",
   "execution_count": 17,
   "metadata": {},
   "outputs": [
    {
     "data": {
      "text/plain": [
       "[(1, 2), (3, 4), (5, 6), (7, 8), (9, 10)]"
      ]
     },
     "execution_count": 17,
     "metadata": {},
     "output_type": "execute_result"
    }
   ],
   "source": [
    "odd = [1, 3, 5, 7, 9]\n",
    "even = [2, 4, 6, 8, 10]\n",
    "\n",
    "list2tuple1(odd, even)"
   ]
  },
  {
   "cell_type": "code",
   "execution_count": 18,
   "metadata": {},
   "outputs": [
    {
     "data": {
      "text/plain": [
       "[('red', 'black'), ('blue', 'yellow'), ('green', 'orange')]"
      ]
     },
     "execution_count": 18,
     "metadata": {},
     "output_type": "execute_result"
    }
   ],
   "source": [
    "colors1 = ['red', 'blue', 'green']\n",
    "colors2 = ['black', 'yellow', 'orange']\n",
    "\n",
    "list2tuple1(colors1, colors2)"
   ]
  },
  {
   "cell_type": "markdown",
   "metadata": {},
   "source": [
    "**2nd Solution**"
   ]
  },
  {
   "cell_type": "code",
   "execution_count": 19,
   "metadata": {
    "collapsed": true
   },
   "outputs": [],
   "source": [
    "def list2tuple2(iterable_1, iterable_2):\n",
    "\n",
    "    list3 = [zip(x, iterable_2) for x in itertools.permutations(iterable_1, len(iterable_2))]\n",
    "    chain = itertools.chain(*list3)\n",
    "    return list(set(chain))"
   ]
  },
  {
   "cell_type": "code",
   "execution_count": 20,
   "metadata": {},
   "outputs": [
    {
     "data": {
      "text/plain": [
       "[(2, 6), (1, 4), (1, 5), (1, 6), (3, 6), (2, 5), (3, 4), (2, 4), (3, 5)]"
      ]
     },
     "execution_count": 20,
     "metadata": {},
     "output_type": "execute_result"
    }
   ],
   "source": [
    "a = [1, 2, 3]\n",
    "b = [4, 5, 6]\n",
    "list2tuple2(a,b)"
   ]
  },
  {
   "cell_type": "code",
   "execution_count": 21,
   "metadata": {},
   "outputs": [
    {
     "data": {
      "text/plain": [
       "[(5, 'red'),\n",
       " (1, 'blue'),\n",
       " (5, 'green'),\n",
       " (3, 'blue'),\n",
       " (3, 'green'),\n",
       " (1, 'green'),\n",
       " (3, 'red'),\n",
       " (7, 'green'),\n",
       " (7, 'red'),\n",
       " (5, 'blue'),\n",
       " (7, 'blue'),\n",
       " (1, 'red')]"
      ]
     },
     "execution_count": 21,
     "metadata": {},
     "output_type": "execute_result"
    }
   ],
   "source": [
    "c = [1, 3, 5, 7]\n",
    "d = ['red', 'blue', 'green']\n",
    "list2tuple2(c,d)"
   ]
  },
  {
   "cell_type": "markdown",
   "metadata": {},
   "source": [
    "## 1C\n",
    "Write\ta\tfunction\tthat\ttakes\tin\ta\tset\tof\tstrings\tand\tcomputes\tthe\tpowerset,\t\n",
    "i.e.\tthe\tset\tof\tall\tpossible\tsubsets\t(include\tthe\tempty\tand\tcomplete\tset)\t(5\t\n",
    "points)\t"
   ]
  },
  {
   "cell_type": "code",
   "execution_count": 23,
   "metadata": {
    "collapsed": true
   },
   "outputs": [],
   "source": [
    "def powerset(s):\n",
    "    lst = []\n",
    "    for i in range(0,len(s)+1):\n",
    "        subset = (set(itertools.combinations(s, i)))\n",
    "        lst.append(subset)\n",
    "    return lst"
   ]
  },
  {
   "cell_type": "code",
   "execution_count": 24,
   "metadata": {},
   "outputs": [
    {
     "data": {
      "text/plain": [
       "[{()},\n",
       " {(1,), (2,), (3,), (4,)},\n",
       " {(1, 2), (1, 3), (1, 4), (2, 3), (2, 4), (3, 4)},\n",
       " {(1, 2, 3), (1, 2, 4), (1, 3, 4), (2, 3, 4)},\n",
       " {(1, 2, 3, 4)}]"
      ]
     },
     "execution_count": 24,
     "metadata": {},
     "output_type": "execute_result"
    }
   ],
   "source": [
    "s = [1, 2, 3, 4]\n",
    "powerset(s)"
   ]
  },
  {
   "cell_type": "markdown",
   "metadata": {},
   "source": [
    "## 1D\n",
    "Write\ta\tfunction\tthat\ttakes\tin\ta\tdictionary\twhose\tkeys\tare\tstrings\tand\ta\t\n",
    "regular\texpression\tand\treturns\ta\tlist\tof\tkeys\tfrom\tthe\tdictionary\tthat\t\n",
    "match\tthat\tregular\texpression\t(5\tpoints)"
   ]
  },
  {
   "cell_type": "code",
   "execution_count": 28,
   "metadata": {
    "collapsed": true
   },
   "outputs": [],
   "source": [
    "def printkeys(string, regex):\n",
    "    lst = []\n",
    "    for key in dict:\n",
    "      if regex.match(key):\n",
    "          lst.append(key)\n",
    "\n",
    "    return lst"
   ]
  },
  {
   "cell_type": "code",
   "execution_count": 29,
   "metadata": {},
   "outputs": [
    {
     "data": {
      "text/plain": [
       "['heym8', 'iscream4icecream']"
      ]
     },
     "execution_count": 29,
     "metadata": {},
     "output_type": "execute_result"
    }
   ],
   "source": [
    "dict={'param':None,'tourou':None,'1234':None, 'heym8':None, 'iscream4icecream':None}\n",
    "regex = re.compile('^(?=.*[a-zA-Z])(?=.*[0-9])')\n",
    "\n",
    "printkeys(dict, regex)"
   ]
  },
  {
   "cell_type": "markdown",
   "metadata": {},
   "source": [
    "## Question\t2\t(28\tpoints)\t\t\n",
    "\t\n",
    "In\tthis\tquestion\twe\twill\tpractice\twriting\tsome\tsimple\tfunctions\tin\tPython.\tPlease\t\n",
    "make\tsure\tyou\tprovide\tyour\tanswer\tto\teach\tsub-question\tas\ta\tfunction\tnot\tas\ta\t\n",
    "series\tof\tpython\tstatements,\tand\tit\twould\tbe\tuseful\tif\tyou\talso\tinclude\ta\tfew\t\t\n",
    "Aexample\tfunction\tcalls\tin\teach\tcase\tthat\tdemonstrate\tthat\tyour\tfunction\tworks.\t\n",
    "I’d\trecommend\tyou\tconsult\tthe\tworked\tPython\texercises\tprovided\twith\tthe\tlabs\t\n",
    "to\thelp\tguide\tyou.\t\n",
    "\n",
    "This\tquestion\tuses\ta\tdataset\tfrom\ta\tstudy\tmade\ton\t128\tchimpanzees\tliving\tin\t\n",
    "Gombe\tNational\tPark,\tTanzania.\tHere,\tdifferent\tscientists\trated\tthe\tbehavioral\ttraits\t\n",
    "of\tthe\tchimpanzees\tacross\t24\tpersonality\ttraits,\twhich\tare\tthen\tgrouped\t\n",
    "into\tthe\tsix\tbroader\tcategories\tof\tdominance,\tneuroticism,\topenness,\t\n",
    "conscientiousness,\textraversion\tand\tagreeableness.\tThe\toriginal\tstudy\tinvolved\t\n",
    "52\ttraits\tbut\tthe\tdata\tfiles\tcontain\tdata\ton\t24.\t\n",
    "\n",
    "The\tdata\tcan\tbe\tfound\there: https://osf.io/s7d9d/\t\n",
    "\n",
    "Make\tsure\tyou\tdownload\tthis\tfile:\t\n",
    "\t\n",
    "* gombe_128.csv:\tWe\twill\trefer\tto\tthis\tas\tthe\tsummary\tfile.\tIt\thas\ta\trow\tfor\t\n",
    "every\tchimpanzee\twith\tthe\tsummary\tvalues\tfor\tall\tpersonality\ttraits.\t\n",
    "\t\n",
    "Load\tthe\tsummary\tfile\tinto\ta\tPandas\tdata\tframe,\tcalling\tit\tsumdf,\tand\tusing\tthe\t\n",
    "relevant\tPython\tcode,\tanswer\tthe\tfollowing\tquestions:"
   ]
  },
  {
   "cell_type": "code",
   "execution_count": 30,
   "metadata": {},
   "outputs": [
    {
     "data": {
      "text/html": [
       "<div>\n",
       "<style>\n",
       "    .dataframe thead tr:only-child th {\n",
       "        text-align: right;\n",
       "    }\n",
       "\n",
       "    .dataframe thead th {\n",
       "        text-align: left;\n",
       "    }\n",
       "\n",
       "    .dataframe tbody tr th {\n",
       "        vertical-align: top;\n",
       "    }\n",
       "</style>\n",
       "<table border=\"1\" class=\"dataframe\">\n",
       "  <thead>\n",
       "    <tr style=\"text-align: right;\">\n",
       "      <th></th>\n",
       "      <th>chimpcode</th>\n",
       "      <th>sex</th>\n",
       "      <th>kasekela</th>\n",
       "      <th>dom</th>\n",
       "      <th>sol</th>\n",
       "      <th>impl</th>\n",
       "      <th>symp</th>\n",
       "      <th>stbl</th>\n",
       "      <th>invt</th>\n",
       "      <th>depd</th>\n",
       "      <th>...</th>\n",
       "      <th>pred</th>\n",
       "      <th>conv</th>\n",
       "      <th>cool</th>\n",
       "      <th>innov</th>\n",
       "      <th>dominance</th>\n",
       "      <th>extraversion</th>\n",
       "      <th>conscientiousness</th>\n",
       "      <th>agreeableness</th>\n",
       "      <th>neuroticism</th>\n",
       "      <th>openness</th>\n",
       "    </tr>\n",
       "  </thead>\n",
       "  <tbody>\n",
       "    <tr>\n",
       "      <th>0</th>\n",
       "      <td>E131</td>\n",
       "      <td>0</td>\n",
       "      <td>0.142857</td>\n",
       "      <td>2.428571</td>\n",
       "      <td>3.857143</td>\n",
       "      <td>3.000000</td>\n",
       "      <td>5.571429</td>\n",
       "      <td>4.285714</td>\n",
       "      <td>4.142857</td>\n",
       "      <td>4.285714</td>\n",
       "      <td>...</td>\n",
       "      <td>3.428571</td>\n",
       "      <td>4.285714</td>\n",
       "      <td>5.285714</td>\n",
       "      <td>4.000000</td>\n",
       "      <td>3.571429</td>\n",
       "      <td>4.642857</td>\n",
       "      <td>4.809524</td>\n",
       "      <td>5.047619</td>\n",
       "      <td>3.714286</td>\n",
       "      <td>3.642857</td>\n",
       "    </tr>\n",
       "    <tr>\n",
       "      <th>1</th>\n",
       "      <td>P70</td>\n",
       "      <td>1</td>\n",
       "      <td>1.000000</td>\n",
       "      <td>4.666667</td>\n",
       "      <td>3.333333</td>\n",
       "      <td>4.333333</td>\n",
       "      <td>4.666667</td>\n",
       "      <td>4.000000</td>\n",
       "      <td>2.666667</td>\n",
       "      <td>4.666667</td>\n",
       "      <td>...</td>\n",
       "      <td>5.333333</td>\n",
       "      <td>5.333333</td>\n",
       "      <td>3.666667</td>\n",
       "      <td>4.333333</td>\n",
       "      <td>4.888889</td>\n",
       "      <td>4.333333</td>\n",
       "      <td>4.222222</td>\n",
       "      <td>5.666667</td>\n",
       "      <td>4.000000</td>\n",
       "      <td>3.500000</td>\n",
       "    </tr>\n",
       "    <tr>\n",
       "      <th>2</th>\n",
       "      <td>G74</td>\n",
       "      <td>1</td>\n",
       "      <td>0.000000</td>\n",
       "      <td>3.333333</td>\n",
       "      <td>3.166667</td>\n",
       "      <td>3.500000</td>\n",
       "      <td>5.500000</td>\n",
       "      <td>5.166667</td>\n",
       "      <td>4.166667</td>\n",
       "      <td>5.666667</td>\n",
       "      <td>...</td>\n",
       "      <td>3.166667</td>\n",
       "      <td>3.333333</td>\n",
       "      <td>4.833333</td>\n",
       "      <td>4.666667</td>\n",
       "      <td>3.500000</td>\n",
       "      <td>4.750000</td>\n",
       "      <td>4.222222</td>\n",
       "      <td>5.222222</td>\n",
       "      <td>3.250000</td>\n",
       "      <td>3.875000</td>\n",
       "    </tr>\n",
       "    <tr>\n",
       "      <th>3</th>\n",
       "      <td>A364</td>\n",
       "      <td>0</td>\n",
       "      <td>0.000000</td>\n",
       "      <td>1.666667</td>\n",
       "      <td>1.333333</td>\n",
       "      <td>2.000000</td>\n",
       "      <td>2.666667</td>\n",
       "      <td>4.666667</td>\n",
       "      <td>3.333333</td>\n",
       "      <td>2.666667</td>\n",
       "      <td>...</td>\n",
       "      <td>4.000000</td>\n",
       "      <td>3.000000</td>\n",
       "      <td>4.333333</td>\n",
       "      <td>4.666667</td>\n",
       "      <td>3.777778</td>\n",
       "      <td>5.166667</td>\n",
       "      <td>5.222222</td>\n",
       "      <td>3.666667</td>\n",
       "      <td>3.333333</td>\n",
       "      <td>3.750000</td>\n",
       "    </tr>\n",
       "    <tr>\n",
       "      <th>4</th>\n",
       "      <td>B89</td>\n",
       "      <td>0</td>\n",
       "      <td>1.000000</td>\n",
       "      <td>3.000000</td>\n",
       "      <td>4.666667</td>\n",
       "      <td>3.000000</td>\n",
       "      <td>4.333333</td>\n",
       "      <td>2.666667</td>\n",
       "      <td>3.000000</td>\n",
       "      <td>5.000000</td>\n",
       "      <td>...</td>\n",
       "      <td>3.666667</td>\n",
       "      <td>3.333333</td>\n",
       "      <td>5.333333</td>\n",
       "      <td>5.333333</td>\n",
       "      <td>3.333333</td>\n",
       "      <td>4.250000</td>\n",
       "      <td>4.555556</td>\n",
       "      <td>4.111111</td>\n",
       "      <td>4.166667</td>\n",
       "      <td>3.833333</td>\n",
       "    </tr>\n",
       "  </tbody>\n",
       "</table>\n",
       "<p>5 rows × 33 columns</p>\n",
       "</div>"
      ],
      "text/plain": [
       "  chimpcode  sex  kasekela       dom       sol      impl      symp      stbl  \\\n",
       "0      E131    0  0.142857  2.428571  3.857143  3.000000  5.571429  4.285714   \n",
       "1       P70    1  1.000000  4.666667  3.333333  4.333333  4.666667  4.000000   \n",
       "2       G74    1  0.000000  3.333333  3.166667  3.500000  5.500000  5.166667   \n",
       "3      A364    0  0.000000  1.666667  1.333333  2.000000  2.666667  4.666667   \n",
       "4       B89    0  1.000000  3.000000  4.666667  3.000000  4.333333  2.666667   \n",
       "\n",
       "       invt      depd    ...         pred      conv      cool     innov  \\\n",
       "0  4.142857  4.285714    ...     3.428571  4.285714  5.285714  4.000000   \n",
       "1  2.666667  4.666667    ...     5.333333  5.333333  3.666667  4.333333   \n",
       "2  4.166667  5.666667    ...     3.166667  3.333333  4.833333  4.666667   \n",
       "3  3.333333  2.666667    ...     4.000000  3.000000  4.333333  4.666667   \n",
       "4  3.000000  5.000000    ...     3.666667  3.333333  5.333333  5.333333   \n",
       "\n",
       "   dominance  extraversion  conscientiousness  agreeableness  neuroticism  \\\n",
       "0   3.571429      4.642857           4.809524       5.047619     3.714286   \n",
       "1   4.888889      4.333333           4.222222       5.666667     4.000000   \n",
       "2   3.500000      4.750000           4.222222       5.222222     3.250000   \n",
       "3   3.777778      5.166667           5.222222       3.666667     3.333333   \n",
       "4   3.333333      4.250000           4.555556       4.111111     4.166667   \n",
       "\n",
       "   openness  \n",
       "0  3.642857  \n",
       "1  3.500000  \n",
       "2  3.875000  \n",
       "3  3.750000  \n",
       "4  3.833333  \n",
       "\n",
       "[5 rows x 33 columns]"
      ]
     },
     "execution_count": 30,
     "metadata": {},
     "output_type": "execute_result"
    }
   ],
   "source": [
    "sumdf = pd.read_csv('gombe_128.csv')\n",
    "sumdf = pd.DataFrame(sumdf)\n",
    "sumdf.head(5)"
   ]
  },
  {
   "cell_type": "markdown",
   "metadata": {},
   "source": [
    "## 2A\n",
    "What\tis\tthe\tdifference\tbetween\tthe\tmean\tand\tmedian\tvalues\tof\tthe\t\n",
    "neuroticism\tscore?\tHINT:\tUse\tthe\tPDF\tfile\tin\tthe\tsite\tto\tdetermine\twhich\t\n",
    "column\thas\twhich\ttrait.\t\t(2\tpoints)\t"
   ]
  },
  {
   "cell_type": "code",
   "execution_count": 33,
   "metadata": {},
   "outputs": [
    {
     "name": "stdout",
     "output_type": "stream",
     "text": [
      "mean: 3.87709517102 , median: 3.833333333 , difference: 0.0437618380234\n"
     ]
    }
   ],
   "source": [
    "mean_neuroticism = statistics.mean(sumdf['neuroticism'])\n",
    "median_neuroticism = statistics.median(sumdf['neuroticism'])\n",
    "print(\"mean:\", mean_neuroticism, \", median:\", median_neuroticism, \", difference:\", mean_neuroticism-median_neuroticism)"
   ]
  },
  {
   "cell_type": "markdown",
   "metadata": {},
   "source": [
    "## 2B\n",
    "How\tmany\tchimpanzees\thave\tonly\t2\tnumerical\tdigits\tin\ttheir\tcode?\t(2 points)\n"
   ]
  },
  {
   "cell_type": "code",
   "execution_count": 36,
   "metadata": {},
   "outputs": [
    {
     "data": {
      "text/plain": [
       "21"
      ]
     },
     "execution_count": 36,
     "metadata": {},
     "output_type": "execute_result"
    }
   ],
   "source": [
    "sumdf['chimpcode'][sumdf['chimpcode'].str.contains(r\"^[A-Z][0-9]{2}$\")].count()"
   ]
  },
  {
   "cell_type": "markdown",
   "metadata": {},
   "source": [
    "## 2C\n",
    "Are\tthere\tany\tchimpanzees\twhose\tcode\tconsists\tof\tletters\tearlier\tthan\t‘S’\t\n",
    "in\tthe\talphabet\tand\twhose\tnumbers\tare\tall\teven?\t(2\tpoints)\t"
   ]
  },
  {
   "cell_type": "code",
   "execution_count": 37,
   "metadata": {},
   "outputs": [
    {
     "data": {
      "text/plain": [
       "10"
      ]
     },
     "execution_count": 37,
     "metadata": {},
     "output_type": "execute_result"
    }
   ],
   "source": [
    "sumdf['chimpcode'][sumdf['chimpcode'].str.contains(r\"^[A-S][02468]{0,3}$\")].count()"
   ]
  },
  {
   "cell_type": "markdown",
   "metadata": {},
   "source": [
    "## 2D\n",
    "What\tis\tthe\taverage\tdifference\tin\tscore\tbetween\tthe\tconventional\tand\t\n",
    "decisive\ttraits?\t(2\tpoints)\t"
   ]
  },
  {
   "cell_type": "code",
   "execution_count": 38,
   "metadata": {},
   "outputs": [
    {
     "data": {
      "text/plain": [
       "1.4657922753203125"
      ]
     },
     "execution_count": 38,
     "metadata": {},
     "output_type": "execute_result"
    }
   ],
   "source": [
    "statistics.mean(abs(sumdf['conv'] - sumdf['decs']))"
   ]
  },
  {
   "cell_type": "markdown",
   "metadata": {},
   "source": [
    "## 2E\n",
    "The\tfinal\tsix\tcolumns\t(dominance\tto\topenness)\tcorrespond\tto\tthe\tbroad\t\n",
    "categories.\tBy\tcreating\tany\trelevant\tdata\tframe\tto\tsupport\tyour\tanswer,\t\n",
    "which\tof\tthese\tsix\tbroad\tcharacteristics\tis\tmost\tprominent\tamong\tfemale\t\n",
    "chimpanzees\tin\tthe\tsample,\tand\twhich\twas\tmost\tprominent\tamong\tthe\t\n",
    "males\t(assume\tsex\t=\t0\tcorresponds\tto\tfemale)?\t(4\tpoints)\t"
   ]
  },
  {
   "cell_type": "code",
   "execution_count": 40,
   "metadata": {},
   "outputs": [
    {
     "data": {
      "text/html": [
       "<div>\n",
       "<style>\n",
       "    .dataframe thead tr:only-child th {\n",
       "        text-align: right;\n",
       "    }\n",
       "\n",
       "    .dataframe thead th {\n",
       "        text-align: left;\n",
       "    }\n",
       "\n",
       "    .dataframe tbody tr th {\n",
       "        vertical-align: top;\n",
       "    }\n",
       "</style>\n",
       "<table border=\"1\" class=\"dataframe\">\n",
       "  <thead>\n",
       "    <tr style=\"text-align: right;\">\n",
       "      <th></th>\n",
       "      <th>sex</th>\n",
       "      <th>dominance</th>\n",
       "      <th>extraversion</th>\n",
       "      <th>conscientiousness</th>\n",
       "      <th>agreeableness</th>\n",
       "      <th>neuroticism</th>\n",
       "      <th>openness</th>\n",
       "    </tr>\n",
       "  </thead>\n",
       "  <tbody>\n",
       "    <tr>\n",
       "      <th>0</th>\n",
       "      <td>0</td>\n",
       "      <td>3.804156</td>\n",
       "      <td>4.349256</td>\n",
       "      <td>4.691202</td>\n",
       "      <td>4.430595</td>\n",
       "      <td>3.580546</td>\n",
       "      <td>3.640692</td>\n",
       "    </tr>\n",
       "    <tr>\n",
       "      <th>1</th>\n",
       "      <td>1</td>\n",
       "      <td>4.220803</td>\n",
       "      <td>4.890041</td>\n",
       "      <td>4.161139</td>\n",
       "      <td>4.662747</td>\n",
       "      <td>4.258373</td>\n",
       "      <td>4.397894</td>\n",
       "    </tr>\n",
       "  </tbody>\n",
       "</table>\n",
       "</div>"
      ],
      "text/plain": [
       "   sex  dominance  extraversion  conscientiousness  agreeableness  \\\n",
       "0    0   3.804156      4.349256           4.691202       4.430595   \n",
       "1    1   4.220803      4.890041           4.161139       4.662747   \n",
       "\n",
       "   neuroticism  openness  \n",
       "0     3.580546  3.640692  \n",
       "1     4.258373  4.397894  "
      ]
     },
     "execution_count": 40,
     "metadata": {},
     "output_type": "execute_result"
    }
   ],
   "source": [
    "c5 = sumdf.groupby('sex', as_index=False)[['dominance','extraversion','conscientiousness','agreeableness','neuroticism','openness']].mean()\n",
    "c5"
   ]
  },
  {
   "cell_type": "code",
   "execution_count": 45,
   "metadata": {},
   "outputs": [
    {
     "data": {
      "text/html": [
       "<div>\n",
       "<style>\n",
       "    .dataframe thead tr:only-child th {\n",
       "        text-align: right;\n",
       "    }\n",
       "\n",
       "    .dataframe thead th {\n",
       "        text-align: left;\n",
       "    }\n",
       "\n",
       "    .dataframe tbody tr th {\n",
       "        vertical-align: top;\n",
       "    }\n",
       "</style>\n",
       "<table border=\"1\" class=\"dataframe\">\n",
       "  <thead>\n",
       "    <tr style=\"text-align: right;\">\n",
       "      <th></th>\n",
       "      <th>sex</th>\n",
       "      <th>dominance</th>\n",
       "      <th>extraversion</th>\n",
       "      <th>conscientiousness</th>\n",
       "      <th>agreeableness</th>\n",
       "      <th>neuroticism</th>\n",
       "      <th>openness</th>\n",
       "    </tr>\n",
       "  </thead>\n",
       "  <tbody>\n",
       "    <tr>\n",
       "      <th>0</th>\n",
       "      <td>0.0</td>\n",
       "      <td>3.804156</td>\n",
       "      <td>4.349256</td>\n",
       "      <td>4.691202</td>\n",
       "      <td>4.430595</td>\n",
       "      <td>3.580546</td>\n",
       "      <td>3.640692</td>\n",
       "    </tr>\n",
       "    <tr>\n",
       "      <th>1</th>\n",
       "      <td>1.0</td>\n",
       "      <td>4.220803</td>\n",
       "      <td>4.890041</td>\n",
       "      <td>4.161139</td>\n",
       "      <td>4.662747</td>\n",
       "      <td>4.258373</td>\n",
       "      <td>4.397894</td>\n",
       "    </tr>\n",
       "    <tr>\n",
       "      <th>2</th>\n",
       "      <td>1.0</td>\n",
       "      <td>0.416646</td>\n",
       "      <td>0.540785</td>\n",
       "      <td>0.530062</td>\n",
       "      <td>0.232152</td>\n",
       "      <td>0.677827</td>\n",
       "      <td>0.757201</td>\n",
       "    </tr>\n",
       "  </tbody>\n",
       "</table>\n",
       "</div>"
      ],
      "text/plain": [
       "   sex  dominance  extraversion  conscientiousness  agreeableness  \\\n",
       "0  0.0   3.804156      4.349256           4.691202       4.430595   \n",
       "1  1.0   4.220803      4.890041           4.161139       4.662747   \n",
       "2  1.0   0.416646      0.540785           0.530062       0.232152   \n",
       "\n",
       "   neuroticism  openness  \n",
       "0     3.580546  3.640692  \n",
       "1     4.258373  4.397894  \n",
       "2     0.677827  0.757201  "
      ]
     },
     "execution_count": 45,
     "metadata": {},
     "output_type": "execute_result"
    }
   ],
   "source": [
    "# create a new row containing the difference between the average male and female characteristics\n",
    "c5.loc[2] = abs(c5.iloc[0]-c5.iloc[1])\n",
    "c5"
   ]
  },
  {
   "cell_type": "code",
   "execution_count": 47,
   "metadata": {},
   "outputs": [
    {
     "data": {
      "text/plain": [
       "0    conscientiousness\n",
       "1         extraversion\n",
       "2             openness\n",
       "dtype: object"
      ]
     },
     "execution_count": 47,
     "metadata": {},
     "output_type": "execute_result"
    }
   ],
   "source": [
    "# return the maximum of each row\n",
    "# and therefore the most prominent characteristic of females, of males, the characteristic \n",
    "# with the highest difference between females and males\n",
    "c5.iloc[:,1:len(c5.columns)].idxmax(axis=1)"
   ]
  },
  {
   "cell_type": "markdown",
   "metadata": {},
   "source": [
    "**Answer:**\n",
    "    The most prominent characteristic among female chimps is conscientiousness\n",
    "    while the most prominent characteristic among male chimps is extraversion.\n",
    "    The characteristic with the highest difference between males and females chimps is openness.\n",
    "    Male chimps tend to have higher openness scores than females."
   ]
  },
  {
   "cell_type": "markdown",
   "metadata": {},
   "source": [
    "## 2F\n",
    "The\tcolumns\tfrom\tdom\tto\tinnov\tare\tthe\t24\tpersonality\ttraits.\tYou\tcan\tsee\t\n",
    "what\tthese\tcorrespond\tto\tby\tdownloading\tthe\tPDF\tfile\tin\tthe\twebsite.\t\n",
    "Create\ta\tdictionary\tthat\tmaps\tpersonality\ttraits\tto\tthe\tnumber\tof\t\n",
    "chimpanzees\tfor\twhich\tthat\ttrait\tis\tthe\tmost\tprominent\t(i.e.\thas\tthe\t\n",
    "highest\tscore).\tFor\texample,\tan\tentry\t{dom\t:\t5}\tin\tyour\tdictionary\twould\t\n",
    "mean\tthat\tthere\tare\tfive\tchimpanzees\twhose\tmost\tprominent\ttrait\tis\t\n",
    "dominance.\t(6\tpoints)"
   ]
  },
  {
   "cell_type": "code",
   "execution_count": 49,
   "metadata": {},
   "outputs": [
    {
     "data": {
      "text/plain": [
       "{'actv': 8,\n",
       " 'conv': 1,\n",
       " 'cool': 8,\n",
       " 'decs': 13,\n",
       " 'depd': 7,\n",
       " 'dom': 9,\n",
       " 'exct': 2,\n",
       " 'help': 16,\n",
       " 'impl': 3,\n",
       " 'indv': 2,\n",
       " 'innov': 7,\n",
       " 'inqs': 2,\n",
       " 'pred': 1,\n",
       " 'sens': 1,\n",
       " 'soc': 29,\n",
       " 'sol': 5,\n",
       " 'stbl': 1,\n",
       " 'symp': 13}"
      ]
     },
     "execution_count": 49,
     "metadata": {},
     "output_type": "execute_result"
    }
   ],
   "source": [
    "c6 = sumdf.iloc[:,0:len(sumdf.columns)-6].drop(['sex', 'kasekela'], axis=1)\n",
    "c6 = c6.iloc[:,1:len(c6.columns)].idxmax(axis=1).value_counts()\n",
    "c6 = c6.to_dict()\n",
    "c6"
   ]
  },
  {
   "cell_type": "markdown",
   "metadata": {},
   "source": [
    "## 2G\n",
    "Create\ta\tnew\tdata\tframe\tin\tthe\tlong\tdata\tformat.\tSpecifically,\tit\tshould\tuse\t\n",
    "the\tchimpcode\tcolumn\tas\tan\tindex,\tthe\t24\tpersonality\tcolumns\tshould\tbe\t\n",
    "represented\tin\ta\ttraits\tcolumn\tand\ttheir\tcorresponding\tvalues\tshould\t\n",
    "appear\tin\ta\tscore\tcolumn\tlike\tthis:\n",
    "\n",
    "|chimpcode\t\t |traits\t\t|score    |\n",
    "|----------------|--------------|---------|\n",
    "|E131\t\t\t |dom\t\t\t|2.428571 |\t\n",
    "|E131\t\t\t |sol\t\t\t|3.857143 |\t\n",
    "| ...\t\t     | ...\t\t    | ...\t  |\t\n",
    "\n",
    "\n",
    "\n",
    "This\tdata\tframe\tshould\tbe\tsorted\tby\tchimpcode.\t(4\tpoints)\t\n"
   ]
  },
  {
   "cell_type": "code",
   "execution_count": 52,
   "metadata": {},
   "outputs": [
    {
     "data": {
      "text/plain": [
       "chimpcode       \n",
       "A100       actv     4.333333\n",
       "           conv     3.000000\n",
       "           cool     4.666667\n",
       "           cur      2.000000\n",
       "           decs     4.666667\n",
       "           depd     3.333333\n",
       "           dom      1.666667\n",
       "           exct     1.666667\n",
       "           help     3.333333\n",
       "           impl     3.333333\n",
       "           indv     4.000000\n",
       "           innov    4.333333\n",
       "           inqs     1.333333\n",
       "           invt     3.333333\n",
       "           pred     3.000000\n",
       "           reckl    1.333333\n",
       "           sens     3.333333\n",
       "           soc      3.333333\n",
       "           sol      5.666667\n",
       "           stbl     3.666667\n",
       "           symp     4.000000\n",
       "           thotl    1.333333\n",
       "           unem     5.000000\n",
       "           vuln     3.000000\n",
       "A341       actv     6.000000\n",
       "           conv     2.600000\n",
       "           cool     5.200000\n",
       "           cur      5.600000\n",
       "           decs     6.800000\n",
       "           depd     3.600000\n",
       "dtype: float64"
      ]
     },
     "execution_count": 52,
     "metadata": {},
     "output_type": "execute_result"
    }
   ],
   "source": [
    "c7 = sumdf.iloc[:,0:len(sumdf.columns)-6].drop(['sex', 'kasekela'], axis=1)\n",
    "c7 = c7.set_index('chimpcode').stack().sort_index()\n",
    "c7.head(30)"
   ]
  },
  {
   "cell_type": "markdown",
   "metadata": {},
   "source": [
    "## 2H\n",
    "On\tthe\tbasis\tof\tthe\t24\tpersonality\ttraits\talone,\twhich\tpair\tof\tchimpanzees\t\n",
    "would\tyou\tsay\tare\tthe\tleast\tsimilar\tto\teach\tother?\t(6\tpoints)"
   ]
  },
  {
   "cell_type": "markdown",
   "metadata": {},
   "source": [
    "**1st Solution: Min similarity** "
   ]
  },
  {
   "cell_type": "code",
   "execution_count": 55,
   "metadata": {},
   "outputs": [
    {
     "name": "stdout",
     "output_type": "stream",
     "text": [
      "Chimp with id = H275 and chimp with id = H389 are the least similar chimps\n",
      "Their characteristics are the following\n",
      "\n",
      "                dom       sol      impl      symp  stbl      invt  depd  soc  \\\n",
      "chimpcode                                                                      \n",
      "H275       3.000000  3.500000  2.500000  2.500000   3.0  3.500000   5.0  5.5   \n",
      "H389       1.666667  4.666667  5.333333  3.666667   3.0  2.333333   3.0  2.0   \n",
      "\n",
      "              thotl      help    ...     reckl  sens      unem  cur      vuln  \\\n",
      "chimpcode                        ...                                            \n",
      "H275       1.500000  5.000000    ...       2.0   2.0  2.215066  2.0  3.500000   \n",
      "H389       3.333333  2.333333    ...       3.0   3.0  3.000000  2.0  3.666667   \n",
      "\n",
      "               actv  pred      conv      cool     innov  \n",
      "chimpcode                                                \n",
      "H275       2.000000   2.0  2.000000  3.000000  6.000000  \n",
      "H389       5.666667   4.0  4.333333  2.666667  1.666667  \n",
      "\n",
      "[2 rows x 24 columns]\n"
     ]
    }
   ],
   "source": [
    "c8 = sumdf.iloc[:,0:len(sumdf.columns)-6].drop(['sex', 'kasekela'], axis=1).set_index('chimpcode')\n",
    "sim = cosine_similarity(c8)\n",
    "test = list(divmod(sim.argmin(), sim.shape[1]))\n",
    "\n",
    "print('Chimp with id =', c8.iloc[test,:].index.values[0], 'and chimp with id =', c8.iloc[test,:].index.values[1], 'are the least similar chimps')\n",
    "print('Their characteristics are the following\\n')\n",
    "print(c8.iloc[test,:])"
   ]
  },
  {
   "cell_type": "markdown",
   "metadata": {},
   "source": [
    "**2nd Solution: Max distance** "
   ]
  },
  {
   "cell_type": "code",
   "execution_count": 56,
   "metadata": {},
   "outputs": [
    {
     "name": "stdout",
     "output_type": "stream",
     "text": [
      "Chimp with id = O468 and chimp with id = U376 are the least similar chimps\n",
      "Their characteristics are the following\n",
      "\n",
      "           dom       sol      impl      symp  stbl      invt      depd  \\\n",
      "chimpcode                                                                \n",
      "O468       1.0  3.666667  5.333333  5.000000   5.0  4.000000  2.000000   \n",
      "U376       7.0  1.333333  6.333333  4.333333   3.0  4.666667  4.333333   \n",
      "\n",
      "                soc     thotl      help  ...       reckl      sens      unem  \\\n",
      "chimpcode                                ...                                   \n",
      "O468       2.333333  1.666667  2.000000  ...    2.333333  5.333333  2.333333   \n",
      "U376       6.666667  4.000000  6.333333  ...    3.333333  5.000000  2.666667   \n",
      "\n",
      "           cur      vuln  actv      pred      conv      cool  innov  \n",
      "chimpcode                                                            \n",
      "O468       2.0  4.666667   3.0  3.878655  3.333333  4.000000    2.0  \n",
      "U376       5.0  4.333333   5.0  5.333333  4.000000  6.333333    7.0  \n",
      "\n",
      "[2 rows x 24 columns]\n"
     ]
    }
   ],
   "source": [
    "sim = euclidean_distances(c8)\n",
    "test = list(divmod(sim.argmax(), sim.shape[1]))\n",
    "\n",
    "print('Chimp with id =', c8.iloc[test,:].index.values[0], 'and chimp with id =', c8.iloc[test,:].index.values[1], 'are the least similar chimps')\n",
    "print('Their characteristics are the following\\n')\n",
    "print(c8.iloc[test,:])"
   ]
  },
  {
   "cell_type": "markdown",
   "metadata": {},
   "source": [
    "## Question\t3\t(32\tpoints)\t\n",
    "\t\n",
    "You\tshould\thave\tdownloaded\tthe\tsecond\tdataset\tthat\twe\twill\tuse,\talong\twith\tthe\t\n",
    "instructions\tto\tthis\tassignment,\tin\tthe\tfile\tyelp_academic_dataset_business.json.\t\n",
    "This\tcontains\tratings\tmade\ton\tthe\twebsite\tYelp\t(www.yelp.com)\tfor\t15,585\t\n",
    "businesses\tin\tArizona\tin\tthe\tUnited\tStates.\tYou\tcan\tload\tthis\tinto\ta\tPandas\tdata\t\n",
    "frame\tby\texecuting\tthe\tcode\tbelow.\tMake\tsure\tyou\tinclude\tthis\tsnippet\tin\tyour\t\n",
    "notebook:\t\n",
    "\t\t\t"
   ]
  },
  {
   "cell_type": "code",
   "execution_count": 94,
   "metadata": {
    "collapsed": true
   },
   "outputs": [],
   "source": [
    "import json\n",
    "yelp_file = 'yelp_academic_dataset_business.json'\n",
    "yelp_rows = [json.loads(line) for line in\n",
    "open(yelp_file)]\n",
    "yelpdf = pd.DataFrame(yelp_rows)"
   ]
  },
  {
   "cell_type": "markdown",
   "metadata": {},
   "source": [
    "Here\tare\tdescriptions\tfor\tsome\tof\tthe\tfields:\t\n",
    "\t\n",
    "- business_id:\tA\tunique\tid\tfor\tthe\tbusiness\t\n",
    "- attributes:\tA\tdictionary\twith\tdifferent\tattributes\t\n",
    "- categories:\tDifferent\tcategories\tfor\tthis\tbusiness\t\n",
    "- city:\tThe\tcity\twhere\tthe\tbusiness\tis\tlocated\tin\t\n",
    "- review_count:\tHow\tmany\treviews\thave\tbeen\tmade\tfor\tthis\tbusiness\t\n",
    "- latitude:\tThe\tlatitude\tof\tthe\tbusiness\t\n",
    "- longitude:\tThe\tlongitude\tof\tthe\tbusiness\t\n",
    "- stars:\tThe\taverage\tstar\trating\trounded\tto\thalf-stars\t\n",
    "- full_address:\tThe\ttext\taddress\tof\tthe\tbusiness\t\n",
    "\t\n",
    "Ok\tnow\tfor\tsome\tquestions:"
   ]
  },
  {
   "cell_type": "markdown",
   "metadata": {},
   "source": [
    "## 3A\n",
    "How\tmany\tbusinesses\thave\tthe\tword\t‘club’\tanywhere\tin\ttheir\tname\t\n",
    "(ignoring\tcase)\tin\tthis\tdata\tframe\t(4\tpoints)\t"
   ]
  },
  {
   "cell_type": "code",
   "execution_count": 59,
   "metadata": {},
   "outputs": [
    {
     "data": {
      "text/plain": [
       "144"
      ]
     },
     "execution_count": 59,
     "metadata": {},
     "output_type": "execute_result"
    }
   ],
   "source": [
    "c1 = pd.DataFrame(yelpdf, columns = ['name'])\n",
    "c1['name'][c1['name'].str.contains(r\"\\bclub\\b\", case = False)].count()"
   ]
  },
  {
   "cell_type": "markdown",
   "metadata": {},
   "source": [
    "## 3B\n",
    "The\tbasic\tUS\tzip\tcode\tformat\thas\t5\tdigits.\tYou\tcan\tspot\tthese\tat\tthe\tend\tof\t\n",
    "most\tentries\tin\tthe\tfull_address\tcolumn.\tHow\tmany\tentries\tin\tthe\tdata\t\n",
    "frame\tdo\tnot\thave\ta\tzip\tcode?\t\t(4\tpoints)"
   ]
  },
  {
   "cell_type": "markdown",
   "metadata": {},
   "source": [
    "**1st Solution**"
   ]
  },
  {
   "cell_type": "code",
   "execution_count": 66,
   "metadata": {},
   "outputs": [
    {
     "data": {
      "text/plain": [
       "64"
      ]
     },
     "execution_count": 66,
     "metadata": {},
     "output_type": "execute_result"
    }
   ],
   "source": [
    "yelpdf['full_address'][~yelpdf['full_address'].str.contains(r\"\\b[0-9]{5}$\\b\")].count()"
   ]
  },
  {
   "cell_type": "markdown",
   "metadata": {},
   "source": [
    "**2nd Solution**"
   ]
  },
  {
   "cell_type": "code",
   "execution_count": 68,
   "metadata": {},
   "outputs": [
    {
     "data": {
      "text/plain": [
       "64"
      ]
     },
     "execution_count": 68,
     "metadata": {},
     "output_type": "execute_result"
    }
   ],
   "source": [
    "filter = yelpdf['full_address'].str.contains('[0-9]{5}$')\n",
    "yelpdf['full_address'][~filter].count()"
   ]
  },
  {
   "cell_type": "markdown",
   "metadata": {},
   "source": [
    "## 3C\n",
    "Remove\tall\tthe\tentries\tin\tthe\tdata\tframe\tthat\tdo\tnot\thave\ta\tzip\tcode\tand\t\n",
    "then\tcreate\ta\tnew\tcolumn\ttitled\tzip_code\tin\tthe\tdata\tframe\tby\textracting\t\n",
    "this\tinformation\tfrom\tthe\ttext\taddress\t(4\tpoints)\t"
   ]
  },
  {
   "cell_type": "code",
   "execution_count": 80,
   "metadata": {},
   "outputs": [
    {
     "data": {
      "text/html": [
       "<div>\n",
       "<style>\n",
       "    .dataframe thead tr:only-child th {\n",
       "        text-align: right;\n",
       "    }\n",
       "\n",
       "    .dataframe thead th {\n",
       "        text-align: left;\n",
       "    }\n",
       "\n",
       "    .dataframe tbody tr th {\n",
       "        vertical-align: top;\n",
       "    }\n",
       "</style>\n",
       "<table border=\"1\" class=\"dataframe\">\n",
       "  <thead>\n",
       "    <tr style=\"text-align: right;\">\n",
       "      <th></th>\n",
       "      <th>attributes</th>\n",
       "      <th>business_id</th>\n",
       "      <th>categories</th>\n",
       "      <th>city</th>\n",
       "      <th>full_address</th>\n",
       "      <th>hours</th>\n",
       "      <th>latitude</th>\n",
       "      <th>longitude</th>\n",
       "      <th>name</th>\n",
       "      <th>neighborhoods</th>\n",
       "      <th>open</th>\n",
       "      <th>review_count</th>\n",
       "      <th>stars</th>\n",
       "      <th>state</th>\n",
       "      <th>type</th>\n",
       "      <th>zip_code</th>\n",
       "    </tr>\n",
       "  </thead>\n",
       "  <tbody>\n",
       "    <tr>\n",
       "      <th>0</th>\n",
       "      <td>{'Take-out': False, 'Wi-Fi': 'free', 'Good For...</td>\n",
       "      <td>O_X3PGhk3Y5JWVi866qlJg</td>\n",
       "      <td>[Active Life, Arts &amp; Entertainment, Stadiums &amp;...</td>\n",
       "      <td>Phoenix</td>\n",
       "      <td>1501 W Bell Rd\\nPhoenix, AZ 85023</td>\n",
       "      <td>{'Monday': {'close': '18:00', 'open': '11:00'}...</td>\n",
       "      <td>33.638573</td>\n",
       "      <td>-112.092329</td>\n",
       "      <td>Turf Paradise Race Course</td>\n",
       "      <td>[]</td>\n",
       "      <td>True</td>\n",
       "      <td>29</td>\n",
       "      <td>4.0</td>\n",
       "      <td>AZ</td>\n",
       "      <td>business</td>\n",
       "      <td>85023</td>\n",
       "    </tr>\n",
       "    <tr>\n",
       "      <th>1</th>\n",
       "      <td>{'Parking': {'garage': False, 'street': False,...</td>\n",
       "      <td>QbrM7wqtmoNncqjc6GtFaQ</td>\n",
       "      <td>[Tires, Automotive, Fashion, Shopping, Departm...</td>\n",
       "      <td>Glendale</td>\n",
       "      <td>18501 N 83rd Avenue\\nGlendale, AZ 85308</td>\n",
       "      <td>{}</td>\n",
       "      <td>33.648545</td>\n",
       "      <td>-112.234755</td>\n",
       "      <td>Sam's Club Members Only</td>\n",
       "      <td>[]</td>\n",
       "      <td>True</td>\n",
       "      <td>3</td>\n",
       "      <td>3.5</td>\n",
       "      <td>AZ</td>\n",
       "      <td>business</td>\n",
       "      <td>85308</td>\n",
       "    </tr>\n",
       "  </tbody>\n",
       "</table>\n",
       "</div>"
      ],
      "text/plain": [
       "                                          attributes             business_id  \\\n",
       "0  {'Take-out': False, 'Wi-Fi': 'free', 'Good For...  O_X3PGhk3Y5JWVi866qlJg   \n",
       "1  {'Parking': {'garage': False, 'street': False,...  QbrM7wqtmoNncqjc6GtFaQ   \n",
       "\n",
       "                                          categories      city  \\\n",
       "0  [Active Life, Arts & Entertainment, Stadiums &...   Phoenix   \n",
       "1  [Tires, Automotive, Fashion, Shopping, Departm...  Glendale   \n",
       "\n",
       "                              full_address  \\\n",
       "0        1501 W Bell Rd\\nPhoenix, AZ 85023   \n",
       "1  18501 N 83rd Avenue\\nGlendale, AZ 85308   \n",
       "\n",
       "                                               hours   latitude   longitude  \\\n",
       "0  {'Monday': {'close': '18:00', 'open': '11:00'}...  33.638573 -112.092329   \n",
       "1                                                 {}  33.648545 -112.234755   \n",
       "\n",
       "                        name neighborhoods  open  review_count  stars state  \\\n",
       "0  Turf Paradise Race Course            []  True            29    4.0    AZ   \n",
       "1    Sam's Club Members Only            []  True             3    3.5    AZ   \n",
       "\n",
       "       type zip_code  \n",
       "0  business    85023  \n",
       "1  business    85308  "
      ]
     },
     "execution_count": 80,
     "metadata": {},
     "output_type": "execute_result"
    }
   ],
   "source": [
    "patternDel = '[0-9]{5}$'\n",
    "filter = yelpdf['full_address'].str.contains(patternDel)\n",
    "c3 = yelpdf[filter]\n",
    "c3.loc[:,'zip_code'] = pd.Series(c3['full_address'].str.findall(patternDel), index=c3.index).str[0]\n",
    "c3.head(2)"
   ]
  },
  {
   "cell_type": "markdown",
   "metadata": {},
   "source": [
    "## 3D\n",
    "Create\ta\tmulti-level\tindex\ton\tthis\tdata\tframe\tusing\tthe\tcity,\tzip_code\tand\t\n",
    "then\tbusiness_id\tcolumns\t(2\tpoints)\t"
   ]
  },
  {
   "cell_type": "code",
   "execution_count": 81,
   "metadata": {},
   "outputs": [
    {
     "data": {
      "text/html": [
       "<div>\n",
       "<style>\n",
       "    .dataframe thead tr:only-child th {\n",
       "        text-align: right;\n",
       "    }\n",
       "\n",
       "    .dataframe thead th {\n",
       "        text-align: left;\n",
       "    }\n",
       "\n",
       "    .dataframe tbody tr th {\n",
       "        vertical-align: top;\n",
       "    }\n",
       "</style>\n",
       "<table border=\"1\" class=\"dataframe\">\n",
       "  <thead>\n",
       "    <tr style=\"text-align: right;\">\n",
       "      <th></th>\n",
       "      <th></th>\n",
       "      <th></th>\n",
       "      <th>attributes</th>\n",
       "      <th>categories</th>\n",
       "      <th>full_address</th>\n",
       "      <th>hours</th>\n",
       "      <th>latitude</th>\n",
       "      <th>longitude</th>\n",
       "      <th>name</th>\n",
       "      <th>neighborhoods</th>\n",
       "      <th>open</th>\n",
       "      <th>review_count</th>\n",
       "      <th>stars</th>\n",
       "      <th>state</th>\n",
       "      <th>type</th>\n",
       "    </tr>\n",
       "    <tr>\n",
       "      <th>city</th>\n",
       "      <th>zip_code</th>\n",
       "      <th>business_id</th>\n",
       "      <th></th>\n",
       "      <th></th>\n",
       "      <th></th>\n",
       "      <th></th>\n",
       "      <th></th>\n",
       "      <th></th>\n",
       "      <th></th>\n",
       "      <th></th>\n",
       "      <th></th>\n",
       "      <th></th>\n",
       "      <th></th>\n",
       "      <th></th>\n",
       "      <th></th>\n",
       "    </tr>\n",
       "  </thead>\n",
       "  <tbody>\n",
       "    <tr>\n",
       "      <th>Phoenix</th>\n",
       "      <th>85023</th>\n",
       "      <th>O_X3PGhk3Y5JWVi866qlJg</th>\n",
       "      <td>{'Take-out': False, 'Wi-Fi': 'free', 'Good For...</td>\n",
       "      <td>[Active Life, Arts &amp; Entertainment, Stadiums &amp;...</td>\n",
       "      <td>1501 W Bell Rd\\nPhoenix, AZ 85023</td>\n",
       "      <td>{'Monday': {'close': '18:00', 'open': '11:00'}...</td>\n",
       "      <td>33.638573</td>\n",
       "      <td>-112.092329</td>\n",
       "      <td>Turf Paradise Race Course</td>\n",
       "      <td>[]</td>\n",
       "      <td>True</td>\n",
       "      <td>29</td>\n",
       "      <td>4.0</td>\n",
       "      <td>AZ</td>\n",
       "      <td>business</td>\n",
       "    </tr>\n",
       "    <tr>\n",
       "      <th>Glendale</th>\n",
       "      <th>85308</th>\n",
       "      <th>QbrM7wqtmoNncqjc6GtFaQ</th>\n",
       "      <td>{'Parking': {'garage': False, 'street': False,...</td>\n",
       "      <td>[Tires, Automotive, Fashion, Shopping, Departm...</td>\n",
       "      <td>18501 N 83rd Avenue\\nGlendale, AZ 85308</td>\n",
       "      <td>{}</td>\n",
       "      <td>33.648545</td>\n",
       "      <td>-112.234755</td>\n",
       "      <td>Sam's Club Members Only</td>\n",
       "      <td>[]</td>\n",
       "      <td>True</td>\n",
       "      <td>3</td>\n",
       "      <td>3.5</td>\n",
       "      <td>AZ</td>\n",
       "      <td>business</td>\n",
       "    </tr>\n",
       "  </tbody>\n",
       "</table>\n",
       "</div>"
      ],
      "text/plain": [
       "                                                                                 attributes  \\\n",
       "city     zip_code business_id                                                                 \n",
       "Phoenix  85023    O_X3PGhk3Y5JWVi866qlJg  {'Take-out': False, 'Wi-Fi': 'free', 'Good For...   \n",
       "Glendale 85308    QbrM7wqtmoNncqjc6GtFaQ  {'Parking': {'garage': False, 'street': False,...   \n",
       "\n",
       "                                                                                 categories  \\\n",
       "city     zip_code business_id                                                                 \n",
       "Phoenix  85023    O_X3PGhk3Y5JWVi866qlJg  [Active Life, Arts & Entertainment, Stadiums &...   \n",
       "Glendale 85308    QbrM7wqtmoNncqjc6GtFaQ  [Tires, Automotive, Fashion, Shopping, Departm...   \n",
       "\n",
       "                                                                     full_address  \\\n",
       "city     zip_code business_id                                                       \n",
       "Phoenix  85023    O_X3PGhk3Y5JWVi866qlJg        1501 W Bell Rd\\nPhoenix, AZ 85023   \n",
       "Glendale 85308    QbrM7wqtmoNncqjc6GtFaQ  18501 N 83rd Avenue\\nGlendale, AZ 85308   \n",
       "\n",
       "                                                                                      hours  \\\n",
       "city     zip_code business_id                                                                 \n",
       "Phoenix  85023    O_X3PGhk3Y5JWVi866qlJg  {'Monday': {'close': '18:00', 'open': '11:00'}...   \n",
       "Glendale 85308    QbrM7wqtmoNncqjc6GtFaQ                                                 {}   \n",
       "\n",
       "                                           latitude   longitude  \\\n",
       "city     zip_code business_id                                     \n",
       "Phoenix  85023    O_X3PGhk3Y5JWVi866qlJg  33.638573 -112.092329   \n",
       "Glendale 85308    QbrM7wqtmoNncqjc6GtFaQ  33.648545 -112.234755   \n",
       "\n",
       "                                                               name  \\\n",
       "city     zip_code business_id                                         \n",
       "Phoenix  85023    O_X3PGhk3Y5JWVi866qlJg  Turf Paradise Race Course   \n",
       "Glendale 85308    QbrM7wqtmoNncqjc6GtFaQ    Sam's Club Members Only   \n",
       "\n",
       "                                         neighborhoods  open  review_count  \\\n",
       "city     zip_code business_id                                                \n",
       "Phoenix  85023    O_X3PGhk3Y5JWVi866qlJg            []  True            29   \n",
       "Glendale 85308    QbrM7wqtmoNncqjc6GtFaQ            []  True             3   \n",
       "\n",
       "                                          stars state      type  \n",
       "city     zip_code business_id                                    \n",
       "Phoenix  85023    O_X3PGhk3Y5JWVi866qlJg    4.0    AZ  business  \n",
       "Glendale 85308    QbrM7wqtmoNncqjc6GtFaQ    3.5    AZ  business  "
      ]
     },
     "execution_count": 81,
     "metadata": {},
     "output_type": "execute_result"
    }
   ],
   "source": [
    "c4 = c3.set_index(['city', 'zip_code', 'business_id'])\n",
    "c4.head(2)"
   ]
  },
  {
   "cell_type": "markdown",
   "metadata": {},
   "source": [
    "## 3E\n",
    "In\tthe\tfirst\tPandas\tnotebook\tin\tclass\twe\tsaw\thow\twe\tcould\tplot\tdata\twhen\t\n",
    "given\tlatitude\tand\tlongitude\tto\tplot\ttaxi\trides.\tIn\tparticular,\twe\tmet\ta\t\n",
    "function\tuseful\tfor\tdoing\tMercator\tprojections\tas\twell\tas\tsome\tcode\tthat\t\n",
    "uses\tMatplotlib\tto\tplot\tmultiple\tdata\tpoints\tnicely\ton\ta\tblack\tand\twhite\t\n",
    "map.\t\tUse\tthis\tcode\tto\tplot\tthe\tbusinesses\tin\tyour\tdata\tframe\tusing\tthe\t\n",
    "same\tapproach\ttaking\tcare\tto\tadjust\tthe\txlim\tand\tylim\tparameters\tof\tyour\t\n",
    "plot\tso\tthat\tit\tzooms\tin\tthe\trelevant\tpart\tof\tthe\tmap.\tHINT:\tExamine\tthe\t\n",
    "range\tof\tyour\tconverted\tpx\tand\tpy\tvariables.\t(6\tpoints)\t"
   ]
  },
  {
   "cell_type": "code",
   "execution_count": 86,
   "metadata": {},
   "outputs": [
    {
     "data": {
      "text/plain": [
       "<matplotlib.collections.PathCollection at 0x7fcaf07a6e80>"
      ]
     },
     "execution_count": 86,
     "metadata": {},
     "output_type": "execute_result"
    },
    {
     "data": {
      "image/png": "[encoded data removed]",
      "text/plain": [
       "<matplotlib.figure.Figure at 0x7fcaf08524e0>"
      ]
     },
     "metadata": {},
     "output_type": "display_data"
    }
   ],
   "source": [
    "lng = c3.longitude\n",
    "lat = c3.latitude\n",
    "\n",
    "def lat_lng_to_pixels(lat, lng):\n",
    "    lat_rad = lat * np.pi / 180.0\n",
    "    lat_rad = np.log(np.tan((lat_rad + np.pi / 2.0) / 2.0))\n",
    "    x = 100 * (lng + 180.0) / 360.0\n",
    "    y = 100 * (lat_rad - np.pi) / (2.0 * np.pi)\n",
    "    return (x, y)\n",
    "\n",
    "px.min()\n",
    "px.max()\n",
    "py.min()\n",
    "py.max()\n",
    "\n",
    "plt.figure(figsize=(12, 10))\n",
    "plt.axis('equal')\n",
    "plt.xlim(18.628434722222224, 19.093456499999998)\n",
    "plt.ylim(-40.320799566245469, -39.930537385207046)\n",
    "#plt.axis('off')\n",
    "plt.gca().set_facecolor('white')\n",
    "plt.scatter(px, py, s=.4, alpha=.05, color='black')"
   ]
  },
  {
   "cell_type": "markdown",
   "metadata": {},
   "source": [
    "## 3F\n",
    "How\tmany\tunique\tcategories\tcan\twe\tfind\twithin\tthe\tcategories\tcolumn inside\tthis\tdata\tframe?\t(4\tpoints)\t"
   ]
  },
  {
   "cell_type": "code",
   "execution_count": 89,
   "metadata": {},
   "outputs": [
    {
     "data": {
      "text/plain": [
       "591"
      ]
     },
     "execution_count": 89,
     "metadata": {},
     "output_type": "execute_result"
    }
   ],
   "source": [
    "s = set()\n",
    "\n",
    "for i in range(0, len(yelpdf['categories'])):\n",
    "\n",
    "    for item in yelpdf['categories'][i]:\n",
    "        s.add(item)\n",
    "\n",
    "len(s)"
   ]
  },
  {
   "cell_type": "markdown",
   "metadata": {},
   "source": [
    "## 3G\n",
    "What\tis\tthe\tmost\treviewed\tbusiness\twith\tthe\t“Pet”\tcategory\t(‘Bakeries’\tcategory)\tin\tthe\tcity\tof\tPhoenix?\t(4\tpoints)\t\n",
    "\n",
    " <font color='red'> **I am not sure I have understood this question correctly**  </font> "
   ]
  },
  {
   "cell_type": "code",
   "execution_count": 95,
   "metadata": {
    "collapsed": true
   },
   "outputs": [],
   "source": [
    "c7 = yelpdf\n",
    "c7['categories'] = c7['categories'].apply(lambda x: ','.join(map(str, x)))"
   ]
  },
  {
   "cell_type": "code",
   "execution_count": 99,
   "metadata": {},
   "outputs": [
    {
     "data": {
      "text/plain": [
       "name            Willo Baking Company\n",
       "review_count                     218\n",
       "dtype: object"
      ]
     },
     "execution_count": 99,
     "metadata": {},
     "output_type": "execute_result"
    }
   ],
   "source": [
    "c7[(c7['city'] == 'Phoenix') & (c7['categories'].str.contains(r\"\\bBakeries\\b\", case = True))].groupby('name', as_index=False)[['review_count']].sum().max()"
   ]
  },
  {
   "cell_type": "code",
   "execution_count": 100,
   "metadata": {},
   "outputs": [
    {
     "data": {
      "text/plain": [
       "name            Your Dog Guru\n",
       "review_count              102\n",
       "dtype: object"
      ]
     },
     "execution_count": 100,
     "metadata": {},
     "output_type": "execute_result"
    }
   ],
   "source": [
    "c7[(c7['city'] == 'Phoenix') & (c7['categories'].str.contains(r\"\\bPets\\b\", case = True))].groupby('name', as_index=False)[['review_count']].sum().max()"
   ]
  },
  {
   "cell_type": "code",
   "execution_count": 101,
   "metadata": {},
   "outputs": [
    {
     "data": {
      "text/plain": [
       "name            Your Dog Guru\n",
       "review_count              102\n",
       "dtype: object"
      ]
     },
     "execution_count": 101,
     "metadata": {},
     "output_type": "execute_result"
    }
   ],
   "source": [
    "c7[(c7['city'] == 'Phoenix') & (c7['categories'].str.contains(r\"\\bPet\\b\", case = True))].groupby('name', as_index=False)[['review_count']].sum().max()"
   ]
  },
  {
   "cell_type": "markdown",
   "metadata": {},
   "source": [
    "## 3H\n",
    "Create\ta\tdata\tframe\tthat\tcounts\tthe\tnumber\tof\tfour-star-and-above\t\n",
    "businesses\tper\tcity\tin\tyour\tdata\tframe\t(4\tpoints)\t"
   ]
  },
  {
   "cell_type": "code",
   "execution_count": 103,
   "metadata": {},
   "outputs": [
    {
     "data": {
      "text/html": [
       "<div>\n",
       "<style>\n",
       "    .dataframe thead tr:only-child th {\n",
       "        text-align: right;\n",
       "    }\n",
       "\n",
       "    .dataframe thead th {\n",
       "        text-align: left;\n",
       "    }\n",
       "\n",
       "    .dataframe tbody tr th {\n",
       "        vertical-align: top;\n",
       "    }\n",
       "</style>\n",
       "<table border=\"1\" class=\"dataframe\">\n",
       "  <thead>\n",
       "    <tr style=\"text-align: right;\">\n",
       "      <th></th>\n",
       "      <th>city</th>\n",
       "      <th>name</th>\n",
       "    </tr>\n",
       "  </thead>\n",
       "  <tbody>\n",
       "    <tr>\n",
       "      <th>0</th>\n",
       "      <td>Ahwatukee</td>\n",
       "      <td>4</td>\n",
       "    </tr>\n",
       "    <tr>\n",
       "      <th>1</th>\n",
       "      <td>Anthem</td>\n",
       "      <td>17</td>\n",
       "    </tr>\n",
       "    <tr>\n",
       "      <th>2</th>\n",
       "      <td>Apache Junction</td>\n",
       "      <td>37</td>\n",
       "    </tr>\n",
       "    <tr>\n",
       "      <th>3</th>\n",
       "      <td>Arcadia</td>\n",
       "      <td>1</td>\n",
       "    </tr>\n",
       "    <tr>\n",
       "      <th>4</th>\n",
       "      <td>Avondale</td>\n",
       "      <td>82</td>\n",
       "    </tr>\n",
       "    <tr>\n",
       "      <th>5</th>\n",
       "      <td>Buckeye</td>\n",
       "      <td>16</td>\n",
       "    </tr>\n",
       "    <tr>\n",
       "      <th>6</th>\n",
       "      <td>Carefree</td>\n",
       "      <td>19</td>\n",
       "    </tr>\n",
       "    <tr>\n",
       "      <th>7</th>\n",
       "      <td>Casa Grande</td>\n",
       "      <td>21</td>\n",
       "    </tr>\n",
       "    <tr>\n",
       "      <th>8</th>\n",
       "      <td>Cave Creek</td>\n",
       "      <td>71</td>\n",
       "    </tr>\n",
       "    <tr>\n",
       "      <th>9</th>\n",
       "      <td>Chandler</td>\n",
       "      <td>584</td>\n",
       "    </tr>\n",
       "    <tr>\n",
       "      <th>10</th>\n",
       "      <td>Charleston</td>\n",
       "      <td>1</td>\n",
       "    </tr>\n",
       "    <tr>\n",
       "      <th>11</th>\n",
       "      <td>Coolidge</td>\n",
       "      <td>3</td>\n",
       "    </tr>\n",
       "    <tr>\n",
       "      <th>12</th>\n",
       "      <td>El Mirage</td>\n",
       "      <td>11</td>\n",
       "    </tr>\n",
       "    <tr>\n",
       "      <th>13</th>\n",
       "      <td>Florence</td>\n",
       "      <td>8</td>\n",
       "    </tr>\n",
       "    <tr>\n",
       "      <th>14</th>\n",
       "      <td>Fort McDowell</td>\n",
       "      <td>1</td>\n",
       "    </tr>\n",
       "    <tr>\n",
       "      <th>15</th>\n",
       "      <td>Fountain Hills</td>\n",
       "      <td>33</td>\n",
       "    </tr>\n",
       "    <tr>\n",
       "      <th>16</th>\n",
       "      <td>Gila Bend</td>\n",
       "      <td>9</td>\n",
       "    </tr>\n",
       "    <tr>\n",
       "      <th>17</th>\n",
       "      <td>Gilbert</td>\n",
       "      <td>326</td>\n",
       "    </tr>\n",
       "    <tr>\n",
       "      <th>18</th>\n",
       "      <td>Glendale</td>\n",
       "      <td>376</td>\n",
       "    </tr>\n",
       "    <tr>\n",
       "      <th>19</th>\n",
       "      <td>Glendale Az</td>\n",
       "      <td>1</td>\n",
       "    </tr>\n",
       "    <tr>\n",
       "      <th>20</th>\n",
       "      <td>Gold Canyon</td>\n",
       "      <td>8</td>\n",
       "    </tr>\n",
       "    <tr>\n",
       "      <th>21</th>\n",
       "      <td>Goodyear</td>\n",
       "      <td>91</td>\n",
       "    </tr>\n",
       "    <tr>\n",
       "      <th>22</th>\n",
       "      <td>Guadalupe</td>\n",
       "      <td>4</td>\n",
       "    </tr>\n",
       "    <tr>\n",
       "      <th>23</th>\n",
       "      <td>Higley</td>\n",
       "      <td>4</td>\n",
       "    </tr>\n",
       "    <tr>\n",
       "      <th>24</th>\n",
       "      <td>Laveen</td>\n",
       "      <td>17</td>\n",
       "    </tr>\n",
       "    <tr>\n",
       "      <th>25</th>\n",
       "      <td>Litchfield Park</td>\n",
       "      <td>12</td>\n",
       "    </tr>\n",
       "    <tr>\n",
       "      <th>26</th>\n",
       "      <td>Litchfield Park</td>\n",
       "      <td>1</td>\n",
       "    </tr>\n",
       "    <tr>\n",
       "      <th>27</th>\n",
       "      <td>Maricopa</td>\n",
       "      <td>25</td>\n",
       "    </tr>\n",
       "    <tr>\n",
       "      <th>28</th>\n",
       "      <td>Mesa</td>\n",
       "      <td>676</td>\n",
       "    </tr>\n",
       "    <tr>\n",
       "      <th>29</th>\n",
       "      <td>Morristown</td>\n",
       "      <td>2</td>\n",
       "    </tr>\n",
       "    <tr>\n",
       "      <th>30</th>\n",
       "      <td>North Pinal</td>\n",
       "      <td>1</td>\n",
       "    </tr>\n",
       "    <tr>\n",
       "      <th>31</th>\n",
       "      <td>North Scottsdale</td>\n",
       "      <td>1</td>\n",
       "    </tr>\n",
       "    <tr>\n",
       "      <th>32</th>\n",
       "      <td>Paradise Valley</td>\n",
       "      <td>40</td>\n",
       "    </tr>\n",
       "    <tr>\n",
       "      <th>33</th>\n",
       "      <td>Peopria</td>\n",
       "      <td>1</td>\n",
       "    </tr>\n",
       "    <tr>\n",
       "      <th>34</th>\n",
       "      <td>Peoria</td>\n",
       "      <td>179</td>\n",
       "    </tr>\n",
       "    <tr>\n",
       "      <th>35</th>\n",
       "      <td>Phoenix</td>\n",
       "      <td>2704</td>\n",
       "    </tr>\n",
       "    <tr>\n",
       "      <th>36</th>\n",
       "      <td>Queen Creek</td>\n",
       "      <td>50</td>\n",
       "    </tr>\n",
       "    <tr>\n",
       "      <th>37</th>\n",
       "      <td>Rio Verde</td>\n",
       "      <td>1</td>\n",
       "    </tr>\n",
       "    <tr>\n",
       "      <th>38</th>\n",
       "      <td>San Tan Valley</td>\n",
       "      <td>14</td>\n",
       "    </tr>\n",
       "    <tr>\n",
       "      <th>39</th>\n",
       "      <td>Scottsdale</td>\n",
       "      <td>1430</td>\n",
       "    </tr>\n",
       "    <tr>\n",
       "      <th>40</th>\n",
       "      <td>Sun City</td>\n",
       "      <td>25</td>\n",
       "    </tr>\n",
       "    <tr>\n",
       "      <th>41</th>\n",
       "      <td>Sun City West</td>\n",
       "      <td>2</td>\n",
       "    </tr>\n",
       "    <tr>\n",
       "      <th>42</th>\n",
       "      <td>Sun Lakes</td>\n",
       "      <td>3</td>\n",
       "    </tr>\n",
       "    <tr>\n",
       "      <th>43</th>\n",
       "      <td>Surprise</td>\n",
       "      <td>104</td>\n",
       "    </tr>\n",
       "    <tr>\n",
       "      <th>44</th>\n",
       "      <td>Surprise Crossing</td>\n",
       "      <td>1</td>\n",
       "    </tr>\n",
       "    <tr>\n",
       "      <th>45</th>\n",
       "      <td>Tempe</td>\n",
       "      <td>680</td>\n",
       "    </tr>\n",
       "    <tr>\n",
       "      <th>46</th>\n",
       "      <td>Tolleson</td>\n",
       "      <td>13</td>\n",
       "    </tr>\n",
       "    <tr>\n",
       "      <th>47</th>\n",
       "      <td>Tonopah</td>\n",
       "      <td>2</td>\n",
       "    </tr>\n",
       "    <tr>\n",
       "      <th>48</th>\n",
       "      <td>Tonto Basin</td>\n",
       "      <td>1</td>\n",
       "    </tr>\n",
       "    <tr>\n",
       "      <th>49</th>\n",
       "      <td>Tortilla Flat</td>\n",
       "      <td>2</td>\n",
       "    </tr>\n",
       "    <tr>\n",
       "      <th>50</th>\n",
       "      <td>Verde Valley</td>\n",
       "      <td>1</td>\n",
       "    </tr>\n",
       "    <tr>\n",
       "      <th>51</th>\n",
       "      <td>Waddell</td>\n",
       "      <td>2</td>\n",
       "    </tr>\n",
       "    <tr>\n",
       "      <th>52</th>\n",
       "      <td>Wickenburg</td>\n",
       "      <td>20</td>\n",
       "    </tr>\n",
       "    <tr>\n",
       "      <th>53</th>\n",
       "      <td>Wittmann</td>\n",
       "      <td>1</td>\n",
       "    </tr>\n",
       "    <tr>\n",
       "      <th>54</th>\n",
       "      <td>Youngtown</td>\n",
       "      <td>7</td>\n",
       "    </tr>\n",
       "    <tr>\n",
       "      <th>55</th>\n",
       "      <td>chandler</td>\n",
       "      <td>1</td>\n",
       "    </tr>\n",
       "  </tbody>\n",
       "</table>\n",
       "</div>"
      ],
      "text/plain": [
       "                 city  name\n",
       "0           Ahwatukee     4\n",
       "1              Anthem    17\n",
       "2     Apache Junction    37\n",
       "3             Arcadia     1\n",
       "4            Avondale    82\n",
       "5             Buckeye    16\n",
       "6            Carefree    19\n",
       "7         Casa Grande    21\n",
       "8          Cave Creek    71\n",
       "9            Chandler   584\n",
       "10         Charleston     1\n",
       "11           Coolidge     3\n",
       "12          El Mirage    11\n",
       "13           Florence     8\n",
       "14      Fort McDowell     1\n",
       "15     Fountain Hills    33\n",
       "16          Gila Bend     9\n",
       "17            Gilbert   326\n",
       "18           Glendale   376\n",
       "19        Glendale Az     1\n",
       "20        Gold Canyon     8\n",
       "21           Goodyear    91\n",
       "22          Guadalupe     4\n",
       "23             Higley     4\n",
       "24             Laveen    17\n",
       "25    Litchfield Park    12\n",
       "26   Litchfield Park      1\n",
       "27           Maricopa    25\n",
       "28               Mesa   676\n",
       "29         Morristown     2\n",
       "30        North Pinal     1\n",
       "31   North Scottsdale     1\n",
       "32    Paradise Valley    40\n",
       "33            Peopria     1\n",
       "34             Peoria   179\n",
       "35            Phoenix  2704\n",
       "36        Queen Creek    50\n",
       "37          Rio Verde     1\n",
       "38     San Tan Valley    14\n",
       "39         Scottsdale  1430\n",
       "40           Sun City    25\n",
       "41      Sun City West     2\n",
       "42          Sun Lakes     3\n",
       "43           Surprise   104\n",
       "44  Surprise Crossing     1\n",
       "45              Tempe   680\n",
       "46           Tolleson    13\n",
       "47            Tonopah     2\n",
       "48        Tonto Basin     1\n",
       "49      Tortilla Flat     2\n",
       "50       Verde Valley     1\n",
       "51            Waddell     2\n",
       "52         Wickenburg    20\n",
       "53           Wittmann     1\n",
       "54          Youngtown     7\n",
       "55           chandler     1"
      ]
     },
     "execution_count": 103,
     "metadata": {},
     "output_type": "execute_result"
    }
   ],
   "source": [
    "yelpdf[(yelpdf['stars'] >=4)].groupby('city', as_index=False)[['name']].count()"
   ]
  }
 ],
 "metadata": {
  "kernelspec": {
   "display_name": "Python 3",
   "language": "python",
   "name": "python3"
  },
  "language_info": {
   "codemirror_mode": {
    "name": "ipython",
    "version": 3.0
   },
   "file_extension": ".py",
   "mimetype": "text/x-python",
   "name": "python",
   "nbconvert_exporter": "python",
   "pygments_lexer": "ipython3",
   "version": "3.6.3"
  }
 },
 "nbformat": 4,
 "nbformat_minor": 0
}